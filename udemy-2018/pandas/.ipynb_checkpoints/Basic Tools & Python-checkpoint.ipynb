{
 "cells": [
  {
   "cell_type": "code",
   "execution_count": 13,
   "metadata": {},
   "outputs": [
    {
     "data": {
      "text/plain": [
       "2"
      ]
     },
     "execution_count": 13,
     "metadata": {},
     "output_type": "execute_result"
    }
   ],
   "source": [
    "1+1\n",
    "\n",
    "#shift + enter\n",
    "#command + s -> save file"
   ]
  },
  {
   "cell_type": "code",
   "execution_count": null,
   "metadata": {
    "collapsed": true
   },
   "outputs": [],
   "source": []
  },
  {
   "cell_type": "markdown",
   "metadata": {},
   "source": [
    "# Execute  Cell\n",
    "\n",
    "* shift + enter\n",
    "* control + enter은 실행 시키되 그 행에 그대로 있음\n",
    "* 모든 행은 실행시키면 다 실행 시키지만, 마지막 줄만 보여줌\n",
    "~~~\n",
    "1+1\n",
    "2+2\n",
    "3+3\n",
    "이면 3+3만 결과가 나옴\n",
    "~~~\n",
    "\n",
    "* 셀이 꼭 순서대로 써있을 필요 없음. \n"
   ]
  },
  {
   "cell_type": "code",
   "execution_count": 17,
   "metadata": {},
   "outputs": [
    {
     "data": {
      "text/plain": [
       "8"
      ]
     },
     "execution_count": 17,
     "metadata": {},
     "output_type": "execute_result"
    }
   ],
   "source": [
    "x = 5\n",
    "x + 3"
   ]
  },
  {
   "cell_type": "markdown",
   "metadata": {},
   "source": [
    "# Popular Keyboard Shortcuts\n",
    "\n",
    "* green -> currently in edit mode(enter)\n",
    "* blue -> currently in command mode\n",
    "* help -> h\n",
    "* x -> cut a cell\n",
    "* a, b -> add cells above & below "
   ]
  },
  {
   "cell_type": "markdown",
   "metadata": {},
   "source": [
    "# Import Libraries\n",
    "* alias -> assign new name to library (optional but standard)\n",
    "* import matplotlib -> 모든 matplotlib을 import 않고 특정 모듈만 import 가능\n",
    "\n",
    "~~~\n",
    "import pandas as pd\n",
    "import numpy as np\n",
    "import matplotlib.pyplot as plyt\n",
    "~~~\n",
    "* %matplotlib inline : 실행한 바로 그 화면에서 보게 해줌 <br>\n",
    "<http://korbillgates.tistory.com/85>"
   ]
  },
  {
   "cell_type": "code",
   "execution_count": 24,
   "metadata": {
    "collapsed": true
   },
   "outputs": [],
   "source": [
    "import pandas as pd\n",
    "import numpy as np\n",
    "import matplotlib.pyplot as plt\n",
    "%matplotlib inline"
   ]
  },
  {
   "cell_type": "code",
   "execution_count": 25,
   "metadata": {},
   "outputs": [
    {
     "data": {
      "text/plain": [
       "'0.20.1'"
      ]
     },
     "execution_count": 25,
     "metadata": {},
     "output_type": "execute_result"
    }
   ],
   "source": [
    "#check \n",
    "pd.__version__"
   ]
  },
  {
   "cell_type": "code",
   "execution_count": null,
   "metadata": {
    "collapsed": true
   },
   "outputs": [],
   "source": []
  }
 ],
 "metadata": {
  "kernelspec": {
   "display_name": "Python 3",
   "language": "python",
   "name": "python3"
  },
  "language_info": {
   "codemirror_mode": {
    "name": "ipython",
    "version": 3
   },
   "file_extension": ".py",
   "mimetype": "text/x-python",
   "name": "python",
   "nbconvert_exporter": "python",
   "pygments_lexer": "ipython3",
   "version": "3.6.1"
  }
 },
 "nbformat": 4,
 "nbformat_minor": 2
}
